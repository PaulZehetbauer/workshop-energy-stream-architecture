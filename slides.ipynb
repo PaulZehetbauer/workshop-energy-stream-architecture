{
 "cells": [
  {
   "cell_type": "code",
   "execution_count": 4,
   "metadata": {
    "slideshow": {
     "slide_type": "skip"
    }
   },
   "outputs": [
    {
     "data": {
      "text/html": [
       "<link rel=\"stylesheet\" type=\"text/css\" href=\"custom.css\">"
      ],
      "text/plain": [
       "<IPython.core.display.HTML object>"
      ]
     },
     "metadata": {},
     "output_type": "display_data"
    }
   ],
   "source": [
    "%%HTML\n",
    "<link rel=\"stylesheet\" type=\"text/css\" href=\"custom.css\">"
   ]
  },
  {
   "cell_type": "markdown",
   "metadata": {
    "slideshow": {
     "slide_type": "slide"
    }
   },
   "source": [
    "# Workshop - Energy Time Series Storage and Analytics \n",
    "\n",
    "###  Michael Vollmer and Holger Trittenbach"
   ]
  },
  {
   "cell_type": "markdown",
   "metadata": {
    "slideshow": {
     "slide_type": "slide"
    }
   },
   "source": [
    "# Production Monitoring with Smart Meters\n",
    "\n",
    "![ipe1](https://www.ipe.kit.edu/img/Reinraum_V2.jpg)\n",
    "<img src=\"https://www.ipe.kit.edu/img/Hybridlabor.jpg\" alt=\"ipe2\" width=\"50%\"/>"
   ]
  },
  {
   "cell_type": "markdown",
   "metadata": {
    "slideshow": {
     "slide_type": "slide"
    }
   },
   "source": [
    "# Introduction\n",
    "<img src=\"img/intro_graphic_1.png\" alt=\"Intro1\" width=\"100%\"/>"
   ]
  },
  {
   "cell_type": "markdown",
   "metadata": {
    "slideshow": {
     "slide_type": "subslide"
    }
   },
   "source": [
    "# Introduction\n",
    "<img src=\"img/intro_graphic_2.png\" alt=\"Intro2\" width=\"100%\"/>"
   ]
  },
  {
   "cell_type": "markdown",
   "metadata": {
    "slideshow": {
     "slide_type": "subslide"
    }
   },
   "source": [
    "# Introduction\n",
    "<img src=\"img/intro_graphic_3.png\" alt=\"Intro3\" width=\"100%\"/>"
   ]
  },
  {
   "cell_type": "markdown",
   "metadata": {
    "slideshow": {
     "slide_type": "subslide"
    }
   },
   "source": [
    "# Introduction\n",
    "<img src=\"img/intro_graphic_4.png\" alt=\"Intro4\" width=\"100%\"/>"
   ]
  },
  {
   "cell_type": "markdown",
   "metadata": {
    "slideshow": {
     "slide_type": "subslide"
    }
   },
   "source": [
    "# Introduction\n",
    "<img src=\"img/intro_graphic_5.png\" alt=\"Intro5\" width=\"100%\"/>"
   ]
  },
  {
   "cell_type": "markdown",
   "metadata": {
    "slideshow": {
     "slide_type": "subslide"
    }
   },
   "source": [
    "# Introduction\n",
    "<img src=\"img/intro_graphic_6.png\" alt=\"Intro6\" width=\"100%\"/>"
   ]
  },
  {
   "cell_type": "markdown",
   "metadata": {
    "slideshow": {
     "slide_type": "subslide"
    }
   },
   "source": [
    "# Introduction\n",
    "### This workshop gives insights into modern stream processing\n",
    "\n",
    "* **Challenges**\n",
    " * Functional requirements\n",
    " * Optimazation goals\n",
    "* **Concepts**\n",
    " * Software architecture\n",
    " * Conflicts and design choices\n",
    "* **A competetive and available solution**\n",
    " * Concrete frameworks\n",
    " * Brief demonstrations"
   ]
  },
  {
   "cell_type": "markdown",
   "metadata": {
    "slideshow": {
     "slide_type": "fragment"
    }
   },
   "source": [
    "### This workshop does not\n",
    "* Discuss network protocols\n",
    "* Provide a full tutorial on software configuration and usage\n",
    "* Claim the definitive solution for everyone "
   ]
  },
  {
   "cell_type": "markdown",
   "metadata": {
    "slideshow": {
     "slide_type": "slide"
    }
   },
   "source": [
    "# Architecture - Soft Goals\n",
    "\n",
    "* Consistency\n",
    "* Fault Tolerance\n",
    "* Throughput / Performance\n",
    "* Scalability\n",
    "* Extensibility\n",
    "* Security\n",
    "* Maintainability\n",
    "* Price"
   ]
  },
  {
   "cell_type": "code",
   "execution_count": 2,
   "metadata": {
    "slideshow": {
     "slide_type": "skip"
    }
   },
   "outputs": [
    {
     "data": {
      "text/html": [
       "<style>\n",
       "table {float:left}\n",
       "table {width: 60%}\n",
       "</style>"
      ],
      "text/plain": [
       "<IPython.core.display.HTML object>"
      ]
     },
     "metadata": {},
     "output_type": "display_data"
    }
   ],
   "source": [
    "%%html\n",
    "<style>\n",
    "table {float:left}\n",
    "table {width: 60%}\n",
    "</style>"
   ]
  },
  {
   "cell_type": "markdown",
   "metadata": {
    "slideshow": {
     "slide_type": "subslide"
    }
   },
   "source": [
    "# Architecture - Number of Servers\n",
    "\n",
    "\n",
    "<span style=\"font-size:30pt\">Single Server</span> | <span style=\"font-size:30pt\">Cluster</span> \n",
    "------------- | -------\n",
    "<span style=\"font-size:25pt;color:#009682\">Consistency</span> | <span style=\"font-size:25pt;color:#A22223\">Consistency</span>\n",
    "<span style=\"font-size:25pt;color:#A22223\">Fault Tolerance</span> | <span style=\"font-size:25pt;color:#009682\">Fault Tolerance</span>\n",
    "<span style=\"font-size:25pt\">Throughput / Performance</span> | <span style=\"font-size:25pt\">Throughput / Performance</span>\n",
    "<span style=\"font-size:25pt;color:#A22223\">Scalability</span> | <span style=\"font-size:25pt;color:#009682\">Scalability</span>\n",
    "<span style=\"font-size:25pt;color:#A22223\">Extensibility</span> | <span style=\"font-size:25pt;color:#009682\">Extensibility</span>\n",
    "<span style=\"font-size:25pt\">Security</span> | <span style=\"font-size:25pt\">Security</span>\n",
    "<span style=\"font-size:25pt;color:#009682\">Maintainability</span> | <span style=\"font-size:25pt;color:#A22223\">Maintainability</span>\n",
    "<span style=\"font-size:25pt\">Price</span> | <span style=\"font-size:25pt\">Price</span>"
   ]
  },
  {
   "cell_type": "markdown",
   "metadata": {
    "slideshow": {
     "slide_type": "subslide"
    }
   },
   "source": [
    "# Architecture - Data Ingress\n",
    "<img src=\"img/pipeline_overview_1.png\" alt=\"Pipeline1\" width=\"100%\"/>\n",
    "\n",
    "* Reliable acceptance and forwarding of incoming data\n",
    "* Single point of contact for all sources\n",
    "* Uniform access / messages for all \"data sinks\""
   ]
  },
  {
   "cell_type": "markdown",
   "metadata": {
    "slideshow": {
     "slide_type": "subslide"
    }
   },
   "source": [
    "# Architecture - Data Storage\n",
    "<img src=\"img/pipeline_overview_2.png\" alt=\"Pipeline2\" width=\"100%\"/>\n",
    "\n",
    "* Persist data with fault tolerance\n",
    "* High throughput for real-time applications\n",
    "* Proper arrangement of the data on disk"
   ]
  },
  {
   "cell_type": "markdown",
   "metadata": {
    "slideshow": {
     "slide_type": "subslide"
    }
   },
   "source": [
    "# Architecture - Processing / Analysis\n",
    "<img src=\"img/pipeline_overview_3.png\" alt=\"Pipeline3\" width=\"100%\"/>\n",
    "\n",
    "* Scheduling and load balancing\n",
    "* Efficient usage of ressources\n",
    "* Synergy with storage framework (data locaility)\n"
   ]
  },
  {
   "cell_type": "markdown",
   "metadata": {
    "slideshow": {
     "slide_type": "subslide"
    }
   },
   "source": [
    "# Architecture - Interaction\n",
    "<img src=\"img/pipeline_overview_4.png\" alt=\"Pipeline4\" width=\"100%\"/>\n",
    "\n",
    "* Provide \"easy\" access to relevant information\n",
    "* Allow collaborative work"
   ]
  },
  {
   "cell_type": "markdown",
   "metadata": {
    "slideshow": {
     "slide_type": "subslide"
    }
   },
   "source": [
    "# Architecture - Software Frameworks\n",
    "<img src=\"img/pipeline_overview_5.png\" alt=\"Pipeline5\" width=\"100%\"/>"
   ]
  },
  {
   "cell_type": "markdown",
   "metadata": {
    "slideshow": {
     "slide_type": "subslide"
    }
   },
   "source": [
    "# Architecture - Service Locations\n",
    "<img src=\"img/location_1.png\" alt=\"Location1\" width=\"100%\"/>\n",
    "* Locations: Sensor, Storage Servers and Viewing Device"
   ]
  },
  {
   "cell_type": "markdown",
   "metadata": {
    "slideshow": {
     "slide_type": "subslide"
    }
   },
   "source": [
    "# Architecture - Service Locations\n",
    "<img src=\"img/location_2.png\" alt=\"Location2\" width=\"100%\"/>\n",
    "* Locations: Sensor, Storage Servers and Viewing Device\n",
    "* Cassandra is the storage service and Spark runs on the same hardware"
   ]
  },
  {
   "cell_type": "markdown",
   "metadata": {
    "slideshow": {
     "slide_type": "subslide"
    }
   },
   "source": [
    "# Architecture - Service Locations\n",
    "<img src=\"img/location_3.png\" alt=\"Location3\" width=\"100%\"/>\n",
    "* Locations: Sensor, Storage Servers and Viewing Device\n",
    "* Cassandra is the storage service and Spark runs on the same hardware\n",
    "* Location/Hardware of kafka and Jupyter depends on situation"
   ]
  },
  {
   "cell_type": "markdown",
   "metadata": {
    "slideshow": {
     "slide_type": "subslide"
    }
   },
   "source": [
    "# Architecture - Demonstration Setup\n",
    "\n",
    "* Simulate separate machines in a connected network using docker\n",
    " * 1 Node for kafka\n",
    " * 2 Nodes for cassandra + spark\n",
    " * 1 Node as spark master\n",
    " * 1 Node for jupyter notebooks\n",
    "<br><br><br>\n",
    "* Images and documentation [available via github](https://github.com/holtri/energydata-docker)\n",
    " * Intended as functional sandbox\n",
    " * Additional simulation of an input stream is also available\n"
   ]
  },
  {
   "cell_type": "markdown",
   "metadata": {
    "slideshow": {
     "slide_type": "subslide"
    }
   },
   "source": [
    "# Architecture - Demonstration Setup\n",
    "\n",
    "* Data is used from [https://data.open-power-system-data.org](https://data.open-power-system-data.org)\n",
    " * Solar and wind generation in germany in 15 min timesteps\n",
    " * Also used during the second part\n",
    " * More specifics are avialble in the [github documentation](https://github.com/holtri/energydata-docker)"
   ]
  },
  {
   "cell_type": "markdown",
   "metadata": {
    "slideshow": {
     "slide_type": "fragment"
    }
   },
   "source": [
    "``ts,type,region,value\n",
    "2012-01-01 06:00:00,solar,DE,0.0\n",
    "2012-01-01 06:15:00,solar,DE,0.0\n",
    "2012-01-01 06:30:00,solar,DE,0.0\n",
    "2012-01-01 06:45:00,solar,DE,0.0\n",
    "2012-01-01 07:00:00,solar,DE,8.0\n",
    "2012-01-01 07:15:00,solar,DE,30.0\n",
    "2012-01-01 07:30:00,solar,DE,74.0\n",
    "2012-01-01 07:45:00,solar,DE,137.0\n",
    "...``"
   ]
  },
  {
   "cell_type": "markdown",
   "metadata": {
    "slideshow": {
     "slide_type": "slide"
    }
   },
   "source": [
    "# Kafka - Ingress Responsibilities\n",
    "\n",
    "* Always available for new messages\n",
    "* Route all incoming messages to the correct recipients\n",
    "* Enable asynchronous delivery"
   ]
  },
  {
   "cell_type": "markdown",
   "metadata": {
    "slideshow": {
     "slide_type": "subslide"
    }
   },
   "source": [
    "# Kafka - Delivery Paradigm\n",
    "\n",
    "### Classic system: Message Queue\n",
    "* Deliver message from one sendet to one recipient\n",
    "* Message must be sent separately for each recipient\n",
    "* Sender must know recipients beforehand\n",
    "* Messages are buffered for each recipient\n",
    "\n",
    "### Publish and Subscribe Approach\n",
    "* Sender publishes a message in a category\n",
    "* Recipients can subscribe any number of categories\n",
    "* Senders and recipients must only know the categories but not each other\n",
    "* Mesages are buffered only once and (at least) until each subscribers received it"
   ]
  },
  {
   "cell_type": "markdown",
   "metadata": {
    "slideshow": {
     "slide_type": "subslide"
    }
   },
   "source": [
    "# Kafka - Delivery Paradigm\n",
    "\n",
    "<img src=\"img/kafka_pubsub_1.png\" alt=\"PubSub1\" width=\"100%\"/>"
   ]
  },
  {
   "cell_type": "markdown",
   "metadata": {
    "slideshow": {
     "slide_type": "subslide"
    }
   },
   "source": [
    "# Kafka - Delivery Paradigm\n",
    "\n",
    "<img src=\"img/kafka_pubsub_2.png\" alt=\"PubSub2\" width=\"100%\"/>"
   ]
  },
  {
   "cell_type": "markdown",
   "metadata": {
    "slideshow": {
     "slide_type": "subslide"
    }
   },
   "source": [
    "# Kafka - Delivery Paradigm\n",
    "\n",
    "<img src=\"img/kafka_pubsub_3.png\" alt=\"PubSub3\" width=\"100%\"/>"
   ]
  },
  {
   "cell_type": "markdown",
   "metadata": {
    "slideshow": {
     "slide_type": "subslide"
    }
   },
   "source": [
    "![kafka_logo](https://kafka.apache.org/images/logo.png)\n",
    "\n",
    "* Adapts PublishSubscribe paradimn for cluster\n",
    "* Developed by LinkedIn and made open source\n",
    "* Scalable through distributed design\n",
    " * LinkedIn: 1100 nodes, receives 175TB and distributes 650TB daily\n",
    " * Netflix: 4000 nodes, 700 billion messages daily"
   ]
  },
  {
   "cell_type": "markdown",
   "metadata": {
    "slideshow": {
     "slide_type": "subslide"
    }
   },
   "source": [
    "# Kafka - Features\n",
    "\n",
    "* Persists data for a while\n",
    "* Messages are not sent immediatly but delivered on request\n",
    "* Allows groups of recipients to read in parallel\n",
    "* Uses replication for fault tolerance\n",
    "* Messages are organized as topics that can be distributed as partitions\n",
    "* Messages are delivered in order of arrival (per partition)\n"
   ]
  },
  {
   "cell_type": "markdown",
   "metadata": {
    "slideshow": {
     "slide_type": "subslide"
    }
   },
   "source": [
    "# Kafka - Detail: Commit Log\n",
    "\n",
    "* Messages are commited to and read from a log\n",
    "* Messages are deleted after a certain duration or log size\n",
    "* One independent commit log per topic and partition\n",
    "![kafka_commit](img/kafka_commitlog.png)"
   ]
  },
  {
   "cell_type": "markdown",
   "metadata": {
    "slideshow": {
     "slide_type": "subslide"
    }
   },
   "source": [
    "# Kafka - Detail: Consumers and Producers \n",
    "\n",
    "### Producers\n",
    "* Send message to a kafka cluster for a specific topic\n",
    "* Can ensure that messages are in the same partition\n",
    "\n",
    "### Consumers\n",
    "* Requests messages from a specific topic\n",
    "* Partitions of the topics are assigned automatically\n",
    " * If consumer is part of a group, each partition is assigned only once across the group\n",
    " * Otherwise, all partitions are assigned\n",
    "* Can specify the offset on a commit log"
   ]
  },
  {
   "cell_type": "markdown",
   "metadata": {
    "slideshow": {
     "slide_type": "subslide"
    }
   },
   "source": [
    "# Kafka - Detail: Connect\n",
    "\n",
    "* Most common task is reading from and writing into a database\n",
    "* Special interface to contiuously produce/consume with database as source/sink\n",
    "* Ready-to-use connectors available for most popular databases and other \n",
    " * E.g., Hadoop, MySQL, Cassandra, Oracle, Twitter, FTP"
   ]
  },
  {
   "cell_type": "markdown",
   "metadata": {
    "slideshow": {
     "slide_type": "subslide"
    }
   },
   "source": [
    "# Kafka - Demonstration\n",
    "![kafka_demo](img/kafka_demoVisualization.png)"
   ]
  },
  {
   "cell_type": "code",
   "execution_count": null,
   "metadata": {
    "collapsed": true,
    "slideshow": {
     "slide_type": "fragment"
    }
   },
   "outputs": [],
   "source": [
    "from kafka import KafkaConsumer\n",
    "consumer = KafkaConsumer('generation', group_id='consumerGroupA', bootstrap_servers='broker')\n",
    "for message in consumer:\n",
    "    print (\"%s:%d:%d    %s\" % (message.topic, message.partition, message.offset, message.value.decode('utf-8')))"
   ]
  },
  {
   "cell_type": "code",
   "execution_count": null,
   "metadata": {
    "collapsed": true,
    "slideshow": {
     "slide_type": "fragment"
    }
   },
   "outputs": [],
   "source": [
    "from kafka import KafkaProducer\n",
    "producer = KafkaProducer(bootstrap_servers='broker')\n",
    "while 1:\n",
    "    producer.send('generation', value=input('message: ').rstrip('\\n').encode('utf-8'))"
   ]
  },
  {
   "cell_type": "markdown",
   "metadata": {
    "slideshow": {
     "slide_type": "slide"
    }
   },
   "source": [
    "# Architecture - Software Frameworks\n",
    "<img src=\"img/pipeline_overview_5.png\" alt=\"Pipeline5\" width=\"100%\"/>"
   ]
  },
  {
   "cell_type": "markdown",
   "metadata": {
    "slideshow": {
     "slide_type": "slide"
    }
   },
   "source": [
    "![logo](https://upload.wikimedia.org/wikipedia/commons/5/5e/Cassandra_logo.svg)\n",
    "\n",
    "### Apache Cassandra Database\n",
    "\n",
    "* Distributed and Decentralized: no single point of failure\n",
    "* Highly scalable\n",
    "    * Apple: 75,000 nodes, 10PB data\n",
    "    * Netflix: 420TB data, trillion requests per day\n",
    "* Row-oriented storage\n",
    "* Well suited for temporal data\n",
    "\n"
   ]
  },
  {
   "cell_type": "markdown",
   "metadata": {
    "slideshow": {
     "slide_type": "subslide"
    }
   },
   "source": [
    "# Cassandra Overview\n",
    "\n",
    "* Data Model\n",
    "* Distribution Strategy\n",
    "* Querying Data\n",
    "* (Read and Write Path)\n",
    "* Demo Data Model"
   ]
  },
  {
   "cell_type": "markdown",
   "metadata": {
    "slideshow": {
     "slide_type": "subslide"
    }
   },
   "source": [
    "# Topology of a Cassandra Cluster\n",
    "\n",
    "![cluster](img/cassandra_cluster+kafka.png)"
   ]
  },
  {
   "cell_type": "markdown",
   "metadata": {
    "slideshow": {
     "slide_type": "subslide"
    }
   },
   "source": [
    "# Cassandra Data Model \n",
    "\n",
    "#### Basic entity: Key-Value pairs\n",
    "* temperature $\\rightarrow $ 25\n",
    "* humidity $\\rightarrow $ 53 \n",
    "\n",
    "#### More complex data is composition of Key-Value pairs\n",
    "* temperature $\\rightarrow $ 25\n",
    "* unit $\\rightarrow $ celcius\n",
    "* location $\\rightarrow $ Passau\n",
    "\n",
    "#### Primary Key\n",
    "* Identifier of a set of key value pairs\n",
    "* Contains of a Partition Key and a Clustering Key\n",
    "* Controls data locality"
   ]
  },
  {
   "cell_type": "markdown",
   "metadata": {
    "slideshow": {
     "slide_type": "subslide"
    }
   },
   "source": [
    "# Cassandra Data Model\n",
    "### Regular Table\n",
    "![dm1](img/cassandra_datamodel_1.png)"
   ]
  },
  {
   "cell_type": "markdown",
   "metadata": {
    "slideshow": {
     "slide_type": "subslide"
    }
   },
   "source": [
    "# Example Regular Table\n",
    "\n",
    "* Table: Environment-Information\n",
    "    * Primary Key: Karlsruhe\n",
    "      * temperature $\\rightarrow $ 28\n",
    "      * temperature_unit $\\rightarrow $ celcius\n",
    "    * Primary Key: Passau\n",
    "      * temperature $\\rightarrow $ 25\n",
    "      * temperature_unit $\\rightarrow $ celcius\n",
    "      * waterlevel $\\rightarrow $ 700 \n",
    "      * waterlevel_unit $\\rightarrow $ cm"
   ]
  },
  {
   "cell_type": "markdown",
   "metadata": {
    "slideshow": {
     "slide_type": "subslide"
    }
   },
   "source": [
    "# Keyspace\n",
    "\n",
    "* Keyspaces summarize tables\n",
    "* Defines the replication strategy"
   ]
  },
  {
   "cell_type": "markdown",
   "metadata": {
    "slideshow": {
     "slide_type": "subslide"
    }
   },
   "source": [
    "# Cassandra Data Model\n",
    "## Wide Rows\n",
    "\n",
    "![dm2](img/cassandra_datamodel_2.png)"
   ]
  },
  {
   "cell_type": "markdown",
   "metadata": {
    "slideshow": {
     "slide_type": "subslide"
    }
   },
   "source": [
    "# Example wide row\n",
    "\n",
    "* Table: Environment-Information\n",
    "* Partition Key: Location, Clustering Key: Date\n",
    "* Primary Key: Composite of Location + Date\n",
    "  * Location $\\rightarrow$ Karlsruhe\n",
    "    * Date $\\rightarrow $ 2017-09-11; temperature $\\rightarrow $ 28\n",
    "    * Date $\\rightarrow $ 2017-09-12; temperature $\\rightarrow $ 24"
   ]
  },
  {
   "cell_type": "markdown",
   "metadata": {
    "slideshow": {
     "slide_type": "subslide"
    }
   },
   "source": [
    "## So far so good - But why not just good old relational DB? \n"
   ]
  },
  {
   "cell_type": "markdown",
   "metadata": {
    "slideshow": {
     "slide_type": "subslide"
    }
   },
   "source": [
    "# Distribution of Partition Keys on Cluster\n",
    "\n",
    "![](img/cassandra_cluster_2.png)"
   ]
  },
  {
   "cell_type": "markdown",
   "metadata": {
    "slideshow": {
     "slide_type": "subslide"
    }
   },
   "source": [
    "# Replication\n",
    "\n",
    "<img src=\"https://blog.gft.com/wp-content/uploads/2017/01/cassandra-ring.png\" alt=\"ipe2\" width=\"100%\"/>"
   ]
  },
  {
   "cell_type": "markdown",
   "metadata": {
    "slideshow": {
     "slide_type": "subslide"
    }
   },
   "source": [
    "# Replication and Consistency\n",
    "\n",
    "* Brewer's CAP Theorem\n",
    "  * Consistency\n",
    "  * Availability \n",
    "  * Partition Tolerance\n",
    "* Cassandra: AP but with tuneable consistency \n",
    "  * trade consistency for availability"
   ]
  },
  {
   "cell_type": "markdown",
   "metadata": {
    "slideshow": {
     "slide_type": "subslide"
    }
   },
   "source": [
    "# Benefits from this architecture\n",
    "\n",
    "* Horizontally Scalable\n",
    "* Fault Tolerance\n",
    "* Particularly well suited for energy data (timeseries)"
   ]
  },
  {
   "cell_type": "markdown",
   "metadata": {},
   "source": [
    "# The Cassandra Query Language (CQL)\n",
    "\n",
    "* Declarative language to query data\n",
    "* Similar to SQL\n",
    "* _But_\n",
    "  * No arbitrary where predicates (only on partition keys)\n",
    "  * No arbitrary order by (only on clustering keys)\n",
    "  * No joins or group by\n",
    "* Other Options\n",
    "  * _Allow filtering_\n",
    "  * _Secondary Index_\n",
    "  * ...\n",
    "  * **Better think about your data model first**\n",
    "* Data model is query oriented \n",
    "* Denormalization is important concept\n",
    "* Spark for analytical queries"
   ]
  },
  {
   "cell_type": "markdown",
   "metadata": {
    "slideshow": {
     "slide_type": "subslide"
    }
   },
   "source": [
    "# Cassandra Write Path\n",
    "![write_path](https://docs.datastax.com/en/cassandra/3.0/cassandra/images/dml_write-process_12.png)"
   ]
  },
  {
   "cell_type": "markdown",
   "metadata": {
    "slideshow": {
     "slide_type": "fragment"
    }
   },
   "source": [
    "### Compaction\n",
    "\n",
    "* SSTables are rearranged for efficient retrieval\n",
    "* Reads are sequential for a partition key in order of the clustering key\n",
    "  * Fast for time series!"
   ]
  },
  {
   "cell_type": "markdown",
   "metadata": {
    "slideshow": {
     "slide_type": "subslide"
    }
   },
   "source": [
    "### Cassandra Read Path\n",
    "\n",
    "![read_path](https://docs.datastax.com/en/cassandra/3.0/cassandra/images/dml_caching-reads_12.png)\n",
    "\n",
    "https://docs.datastax.com/en/cassandra/3.0/cassandra/dml/dmlAboutReads.html"
   ]
  },
  {
   "cell_type": "markdown",
   "metadata": {
    "slideshow": {
     "slide_type": "subslide"
    }
   },
   "source": [
    "### Back to our Use-Case\n",
    "\n",
    "**ts**|**typer**|**region**|**value**\n",
    ":-----:|:-----:|:-----:|:-----:\n",
    "2011-12-31 23:00:00|solar|DE|0.0\n",
    "2011-12-31 23:15:00|solar|DE|0.0\n",
    "2011-12-31 23:30:00|solar|DE|0.0\n",
    "...|...|...|...\n",
    "2010-01-01 00:00:00|wind|DE|3517.0\n",
    "2010-01-01 00:15:00|wind|DE|3512.0\n",
    "2010-01-01 00:30:00|wind|DE|3438.0"
   ]
  },
  {
   "cell_type": "markdown",
   "metadata": {
    "slideshow": {
     "slide_type": "subslide"
    }
   },
   "source": [
    "### Back to our Use-Case\n",
    "\n",
    "```SQL \n",
    "CREATE  KEYSPACE IF NOT EXISTS energydata WITH REPLICATION = {'class' : 'SimpleStrategy', \n",
    "'replication_factor' : 2 };\n",
    "```\n"
   ]
  },
  {
   "cell_type": "markdown",
   "metadata": {
    "slideshow": {
     "slide_type": "fragment"
    }
   },
   "source": [
    "```SQL\n",
    "CREATE TABLE IF NOT EXISTS energydata.generation (\n",
    "    ts timestamp,\n",
    "\ttype text,\n",
    "    region text,\n",
    "    value double,\n",
    "    PRIMARY KEY ((region, type), ts)\n",
    ") WITH CLUSTERING ORDER BY (ts DESC)\n",
    "```"
   ]
  },
  {
   "cell_type": "markdown",
   "metadata": {
    "slideshow": {
     "slide_type": "fragment"
    }
   },
   "source": [
    "```SQL\n",
    "AND compaction = {'class': 'DateTieredCompactionStrategy'};\n",
    "```"
   ]
  },
  {
   "cell_type": "markdown",
   "metadata": {
    "slideshow": {
     "slide_type": "subslide"
    }
   },
   "source": [
    "# Cassandra Demonstration"
   ]
  },
  {
   "cell_type": "markdown",
   "metadata": {
    "slideshow": {
     "slide_type": "subslide"
    }
   },
   "source": [
    "## Cassandra References\n",
    "\n",
    "* Cassandra Datastax Documentation: http://docs.datastax.com/en/cql/3.3/index.html\n",
    "* Cassandra - The Definitive Guide (Jeff Carpenter and Eben Hewitt, O'Reilly 2016)"
   ]
  },
  {
   "cell_type": "markdown",
   "metadata": {
    "slideshow": {
     "slide_type": "slide"
    }
   },
   "source": [
    "# Architecture - Software Frameworks\n",
    "<img src=\"img/pipeline_overview_5.png\" alt=\"Pipeline5\" width=\"100%\"/>"
   ]
  },
  {
   "cell_type": "markdown",
   "metadata": {
    "slideshow": {
     "slide_type": "subslide"
    }
   },
   "source": [
    "![](https://spark.apache.org/images/spark-logo-trademark.png)\n",
    "\n",
    "### Spark - Analytics Framework\n",
    "\n",
    "* Berkeley AMPLab, Apache Project since 2014\n",
    "* Prececessor of MapReduce\n",
    "* in memory processing instead of writing intermediate results to disk\n",
    "* Bindings to several languages"
   ]
  },
  {
   "cell_type": "markdown",
   "metadata": {
    "slideshow": {
     "slide_type": "subslide"
    }
   },
   "source": [
    "### How does it fit to Cassandra\n",
    "\n",
    "* Shortcomings of Cassanadra\n",
    "  * No filter on non-keys\n",
    "  * Not suited for analytical functions, e.g., a simple aggregate per sensor over time"
   ]
  },
  {
   "cell_type": "markdown",
   "metadata": {
    "slideshow": {
     "slide_type": "subslide"
    }
   },
   "source": [
    "### Integration with Cassandra\n",
    "\n",
    "![cluster](img/cassandra_cluster+spark.png)"
   ]
  },
  {
   "cell_type": "markdown",
   "metadata": {
    "slideshow": {
     "slide_type": "subslide"
    }
   },
   "source": [
    "### Basic Idea of Distributed Computing Frameworks\n",
    "\n",
    "* Bring the computation/function to the data\n",
    "* Simple Example: show all locations where the temperature is over 30°C\n",
    "  * Filter Function: temperature > 30\n",
    "  * _Possibility 1_: load all memory into one node, do the filter\n",
    "  * _Possibility 2_: filter on each node, then combine the results"
   ]
  },
  {
   "cell_type": "markdown",
   "metadata": {
    "slideshow": {
     "slide_type": "fragment"
    }
   },
   "source": [
    "### Major Design Principle: Data Locality"
   ]
  },
  {
   "cell_type": "markdown",
   "metadata": {
    "slideshow": {
     "slide_type": "subslide"
    }
   },
   "source": [
    "### The Spark Workflow\n",
    "\n",
    "* User friendly interface (API)\n",
    "  * bindings in Scala, Java, Python, R, ...\n",
    "  * high level transformations on the data (filter, map, aggregate, ...)\n",
    "  * lazy evaluation\n",
    "* Transformation into operators\n",
    "* Efficient execution (in many cases) transparent to the user"
   ]
  },
  {
   "cell_type": "markdown",
   "metadata": {
    "slideshow": {
     "slide_type": "slide"
    }
   },
   "source": [
    "### Spark Cassandra Connector\n",
    "\n",
    "* Preserve Data Locality\n",
    "* Alignment of Spark Partitions with Cassandra partitions"
   ]
  },
  {
   "cell_type": "markdown",
   "metadata": {
    "slideshow": {
     "slide_type": "slide"
    }
   },
   "source": [
    "# Jupyter Notebook\n",
    "\n",
    "![jupyter_logo](http://blog.jupyter.org/content/images/2015/02/jupyter-sq-text.png)\n",
    "\n",
    "* Interactive Data Science \n",
    "* Web-based\n",
    "* Support of many programming languages"
   ]
  },
  {
   "cell_type": "markdown",
   "metadata": {
    "slideshow": {
     "slide_type": "subslide"
    }
   },
   "source": [
    "# Spark Demo"
   ]
  },
  {
   "cell_type": "markdown",
   "metadata": {
    "slideshow": {
     "slide_type": "subslide"
    }
   },
   "source": [
    "# Summary\n",
    "\n",
    "* Use-Case: large scale energy data collection and analysis\n",
    "* Technology Stack: Kafka, Cassandra, Spark, Jupyter \n",
    "* System design principles \n",
    "* Easy to setup docker-based playground"
   ]
  },
  {
   "cell_type": "markdown",
   "metadata": {
    "slideshow": {
     "slide_type": "fragment"
    }
   },
   "source": [
    "### Technology readily available"
   ]
  },
  {
   "cell_type": "markdown",
   "metadata": {
    "slideshow": {
     "slide_type": "slide"
    }
   },
   "source": [
    "# Running the Workshop Examples\n",
    "\n",
    "<img src=\"https://assets-cdn.github.com/images/modules/logos_page/GitHub-Mark.png\" alt=\"githublogo\" width=\"30%\"/>\n",
    "\n",
    "### All resources are available at https://github.com/holtri/energydata-docker"
   ]
  }
 ],
 "metadata": {
  "celltoolbar": "Slideshow",
  "kernelspec": {
   "display_name": "Python [default]",
   "language": "python",
   "name": "python3"
  },
  "language_info": {
   "codemirror_mode": {
    "name": "ipython",
    "version": 3
   },
   "file_extension": ".py",
   "mimetype": "text/x-python",
   "name": "python",
   "nbconvert_exporter": "python",
   "pygments_lexer": "ipython3",
   "version": "3.6.1"
  }
 },
 "nbformat": 4,
 "nbformat_minor": 2
}
